{
 "cells": [
  {
   "cell_type": "markdown",
   "metadata": {},
   "source": [
    "## 資料蒐集"
   ]
  },
  {
   "cell_type": "code",
   "execution_count": 26,
   "metadata": {},
   "outputs": [],
   "source": [
    "import requests\n",
    "from bs4 import BeautifulSoup\n",
    "rs = requests.session()\n",
    "res = rs.get('https://rent.591.com.tw/?kind=1&region=17&section=247')\n",
    "soup = BeautifulSoup(res.text, 'lxml')\n",
    "token = soup.select_one('meta[name=\"csrf-token\"]')['content']"
   ]
  },
  {
   "cell_type": "code",
   "execution_count": 27,
   "metadata": {},
   "outputs": [
    {
     "data": {
      "text/plain": [
       "'ly5MJASnMBqR3n2U7OvxCteLOZxXddTTzsCPzV4Z'"
      ]
     },
     "execution_count": 27,
     "metadata": {},
     "output_type": "execute_result"
    }
   ],
   "source": [
    "token"
   ]
  },
  {
   "cell_type": "code",
   "execution_count": 37,
   "metadata": {},
   "outputs": [],
   "source": [
    "import pandas\n",
    "headers = {\n",
    "    'X-CSRF-TOKEN': token,\n",
    "    'X-Requested-With': 'XMLHttpRequest'\n",
    "}\n",
    "apiurl = 'https://rent.591.com.tw/home/search/rsList?is_new_list=1&type=1&kind=1&searchtype=1&region=17&section=247&firstRow={}&totalRows=200'\n",
    "\n",
    "pagenum = int (200 / 30) + 1\n",
    "dataary = []\n",
    "for p in range(pagenum):\n",
    "    res2 = rs.get(apiurl.format(p*30), headers = headers)\n",
    "    df = pandas.DataFrame(res2.json()['data']['data'])\n",
    "    dataary.append(df)"
   ]
  },
  {
   "cell_type": "code",
   "execution_count": 43,
   "metadata": {
    "scrolled": false
   },
   "outputs": [
    {
     "data": {
      "text/html": [
       "<div>\n",
       "<style scoped>\n",
       "    .dataframe tbody tr th:only-of-type {\n",
       "        vertical-align: middle;\n",
       "    }\n",
       "\n",
       "    .dataframe tbody tr th {\n",
       "        vertical-align: top;\n",
       "    }\n",
       "\n",
       "    .dataframe thead th {\n",
       "        text-align: right;\n",
       "    }\n",
       "</style>\n",
       "<table border=\"1\" class=\"dataframe\">\n",
       "  <thead>\n",
       "    <tr style=\"text-align: right;\">\n",
       "      <th></th>\n",
       "      <th>id</th>\n",
       "      <th>user_id</th>\n",
       "      <th>address</th>\n",
       "      <th>type</th>\n",
       "      <th>post_id</th>\n",
       "      <th>regionid</th>\n",
       "      <th>sectionid</th>\n",
       "      <th>streetid</th>\n",
       "      <th>room</th>\n",
       "      <th>area</th>\n",
       "      <th>...</th>\n",
       "      <th>icon_class</th>\n",
       "      <th>fulladdress</th>\n",
       "      <th>address_img_title</th>\n",
       "      <th>browsenum_name</th>\n",
       "      <th>unit</th>\n",
       "      <th>houseid</th>\n",
       "      <th>region_name</th>\n",
       "      <th>section_name</th>\n",
       "      <th>addInfo</th>\n",
       "      <th>onepxImg</th>\n",
       "    </tr>\n",
       "  </thead>\n",
       "  <tbody>\n",
       "    <tr>\n",
       "      <th>0</th>\n",
       "      <td>10858475</td>\n",
       "      <td>287283</td>\n",
       "      <td>華豐街120巷瑞豐夜市3樓..</td>\n",
       "      <td>1</td>\n",
       "      <td>10858475</td>\n",
       "      <td>17</td>\n",
       "      <td>247</td>\n",
       "      <td>14194</td>\n",
       "      <td>3</td>\n",
       "      <td>27.0</td>\n",
       "      <td>...</td>\n",
       "      <td>rent</td>\n",
       "      <td>華豐街120巷瑞豐夜市3樓公寓</td>\n",
       "      <td>瑞豐夜市3樓公寓</td>\n",
       "      <td>昨日瀏覽</td>\n",
       "      <td>元/月</td>\n",
       "      <td>10858475</td>\n",
       "      <td>高雄市</td>\n",
       "      <td>鼓山區</td>\n",
       "      <td></td>\n",
       "      <td></td>\n",
       "    </tr>\n",
       "    <tr>\n",
       "      <th>1</th>\n",
       "      <td>10922635</td>\n",
       "      <td>1387336</td>\n",
       "      <td>美術東八街美術館超稀有36..</td>\n",
       "      <td>1</td>\n",
       "      <td>10922635</td>\n",
       "      <td>17</td>\n",
       "      <td>247</td>\n",
       "      <td>14165</td>\n",
       "      <td>3</td>\n",
       "      <td>58.1</td>\n",
       "      <td>...</td>\n",
       "      <td>rent</td>\n",
       "      <td>美術東八街美術館超稀有360度全景觀超通風小豪宅</td>\n",
       "      <td>美術館超稀有360度全景觀超通風小豪宅</td>\n",
       "      <td>昨日瀏覽</td>\n",
       "      <td>元/月</td>\n",
       "      <td>10922635</td>\n",
       "      <td>高雄市</td>\n",
       "      <td>鼓山區</td>\n",
       "      <td></td>\n",
       "      <td></td>\n",
       "    </tr>\n",
       "    <tr>\n",
       "      <th>2</th>\n",
       "      <td>10885816</td>\n",
       "      <td>261913</td>\n",
       "      <td>美術東三路農16精美裝潢三..</td>\n",
       "      <td>1</td>\n",
       "      <td>10885816</td>\n",
       "      <td>17</td>\n",
       "      <td>247</td>\n",
       "      <td>14166</td>\n",
       "      <td>3</td>\n",
       "      <td>38.8</td>\n",
       "      <td>...</td>\n",
       "      <td>rent</td>\n",
       "      <td>美術東三路農16精美裝潢三房~傢俱.家電齊全~</td>\n",
       "      <td>農16精美裝潢三房~傢俱.家電齊全~</td>\n",
       "      <td>昨日瀏覽</td>\n",
       "      <td>元/月</td>\n",
       "      <td>10885816</td>\n",
       "      <td>高雄市</td>\n",
       "      <td>鼓山區</td>\n",
       "      <td></td>\n",
       "      <td></td>\n",
       "    </tr>\n",
       "    <tr>\n",
       "      <th>3</th>\n",
       "      <td>10808960</td>\n",
       "      <td>392946</td>\n",
       "      <td>明誠四路🍀帝門美術館第一排綠..</td>\n",
       "      <td>1</td>\n",
       "      <td>10808960</td>\n",
       "      <td>17</td>\n",
       "      <td>247</td>\n",
       "      <td>14140</td>\n",
       "      <td>4</td>\n",
       "      <td>86.9</td>\n",
       "      <td>...</td>\n",
       "      <td>rent</td>\n",
       "      <td>明誠四路🍀帝門美術館第一排綠景3+1房雙平車</td>\n",
       "      <td>🍀帝門美術館第一排綠景3+1房雙平車</td>\n",
       "      <td>昨日瀏覽</td>\n",
       "      <td>元/月</td>\n",
       "      <td>10808960</td>\n",
       "      <td>高雄市</td>\n",
       "      <td>鼓山區</td>\n",
       "      <td></td>\n",
       "      <td></td>\n",
       "    </tr>\n",
       "    <tr>\n",
       "      <th>4</th>\n",
       "      <td>10832533</td>\n",
       "      <td>392946</td>\n",
       "      <td>青海路🍀美術館鳳凰會泳池高檔..</td>\n",
       "      <td>1</td>\n",
       "      <td>10832533</td>\n",
       "      <td>17</td>\n",
       "      <td>247</td>\n",
       "      <td>14151</td>\n",
       "      <td>4</td>\n",
       "      <td>82.0</td>\n",
       "      <td>...</td>\n",
       "      <td>rent</td>\n",
       "      <td>青海路🍀美術館鳳凰會泳池高檔精品3+1房平車</td>\n",
       "      <td>🍀美術館鳳凰會泳池高檔精品3+1房平車</td>\n",
       "      <td>昨日瀏覽</td>\n",
       "      <td>元/月</td>\n",
       "      <td>10832533</td>\n",
       "      <td>高雄市</td>\n",
       "      <td>鼓山區</td>\n",
       "      <td></td>\n",
       "      <td></td>\n",
       "    </tr>\n",
       "  </tbody>\n",
       "</table>\n",
       "<p>5 rows × 88 columns</p>\n",
       "</div>"
      ],
      "text/plain": [
       "         id  user_id           address type   post_id  regionid  sectionid  \\\n",
       "0  10858475   287283   華豐街120巷瑞豐夜市3樓..    1  10858475        17        247   \n",
       "1  10922635  1387336   美術東八街美術館超稀有36..    1  10922635        17        247   \n",
       "2  10885816   261913   美術東三路農16精美裝潢三..    1  10885816        17        247   \n",
       "3  10808960   392946  明誠四路🍀帝門美術館第一排綠..    1  10808960        17        247   \n",
       "4  10832533   392946  青海路🍀美術館鳳凰會泳池高檔..    1  10832533        17        247   \n",
       "\n",
       "   streetid  room  area  ... icon_class               fulladdress  \\\n",
       "0     14194     3  27.0  ...       rent           華豐街120巷瑞豐夜市3樓公寓   \n",
       "1     14165     3  58.1  ...       rent  美術東八街美術館超稀有360度全景觀超通風小豪宅   \n",
       "2     14166     3  38.8  ...       rent   美術東三路農16精美裝潢三房~傢俱.家電齊全~   \n",
       "3     14140     4  86.9  ...       rent    明誠四路🍀帝門美術館第一排綠景3+1房雙平車   \n",
       "4     14151     4  82.0  ...       rent    青海路🍀美術館鳳凰會泳池高檔精品3+1房平車   \n",
       "\n",
       "     address_img_title  browsenum_name  unit   houseid  region_name  \\\n",
       "0             瑞豐夜市3樓公寓            昨日瀏覽   元/月  10858475          高雄市   \n",
       "1  美術館超稀有360度全景觀超通風小豪宅            昨日瀏覽   元/月  10922635          高雄市   \n",
       "2   農16精美裝潢三房~傢俱.家電齊全~            昨日瀏覽   元/月  10885816          高雄市   \n",
       "3   🍀帝門美術館第一排綠景3+1房雙平車            昨日瀏覽   元/月  10808960          高雄市   \n",
       "4  🍀美術館鳳凰會泳池高檔精品3+1房平車            昨日瀏覽   元/月  10832533          高雄市   \n",
       "\n",
       "   section_name  addInfo onepxImg  \n",
       "0           鼓山區                    \n",
       "1           鼓山區                    \n",
       "2           鼓山區                    \n",
       "3           鼓山區                    \n",
       "4           鼓山區                    \n",
       "\n",
       "[5 rows x 88 columns]"
      ]
     },
     "execution_count": 43,
     "metadata": {},
     "output_type": "execute_result"
    }
   ],
   "source": [
    "import pandas\n",
    "df = pandas.concat(dataary)\n",
    "df.head()"
   ]
  },
  {
   "cell_type": "code",
   "execution_count": 44,
   "metadata": {},
   "outputs": [
    {
     "name": "stdout",
     "output_type": "stream",
     "text": [
      "<class 'pandas.core.frame.DataFrame'>\n",
      "Int64Index: 200 entries, 0 to 19\n",
      "Data columns (total 88 columns):\n",
      " #   Column                  Non-Null Count  Dtype  \n",
      "---  ------                  --------------  -----  \n",
      " 0   id                      200 non-null    int64  \n",
      " 1   user_id                 200 non-null    int64  \n",
      " 2   address                 200 non-null    object \n",
      " 3   type                    200 non-null    object \n",
      " 4   post_id                 200 non-null    int64  \n",
      " 5   regionid                200 non-null    int64  \n",
      " 6   sectionid               200 non-null    int64  \n",
      " 7   streetid                200 non-null    int64  \n",
      " 8   room                    200 non-null    int64  \n",
      " 9   area                    200 non-null    float64\n",
      " 10  price                   200 non-null    object \n",
      " 11  storeprice              200 non-null    int64  \n",
      " 12  comment_total           200 non-null    int64  \n",
      " 13  comment_unread          200 non-null    int64  \n",
      " 14  comment_ltime           200 non-null    int64  \n",
      " 15  hasimg                  200 non-null    int64  \n",
      " 16  kind                    200 non-null    int64  \n",
      " 17  shape                   200 non-null    int64  \n",
      " 18  houseage                200 non-null    int64  \n",
      " 19  posttime                200 non-null    object \n",
      " 20  updatetime              200 non-null    int64  \n",
      " 21  refreshtime             200 non-null    int64  \n",
      " 22  checkstatus             200 non-null    int64  \n",
      " 23  status                  200 non-null    object \n",
      " 24  closed                  200 non-null    int64  \n",
      " 25  living                  200 non-null    object \n",
      " 26  condition               200 non-null    object \n",
      " 27  isvip                   200 non-null    int64  \n",
      " 28  mvip                    200 non-null    int64  \n",
      " 29  is_combine              200 non-null    int64  \n",
      " 30  cover                   200 non-null    object \n",
      " 31  browsenum               200 non-null    int64  \n",
      " 32  browsenum_all           200 non-null    int64  \n",
      " 33  floor2                  200 non-null    int64  \n",
      " 34  floor                   200 non-null    int64  \n",
      " 35  ltime                   200 non-null    object \n",
      " 36  cases_id                200 non-null    object \n",
      " 37  social_house            200 non-null    int64  \n",
      " 38  distance                200 non-null    int64  \n",
      " 39  search_name             200 non-null    object \n",
      " 40  mainarea                0 non-null      object \n",
      " 41  balcony_area            0 non-null      object \n",
      " 42  groundarea              0 non-null      object \n",
      " 43  linkman                 200 non-null    object \n",
      " 44  housetype               200 non-null    int64  \n",
      " 45  street_name             200 non-null    object \n",
      " 46  alley_name              200 non-null    object \n",
      " 47  lane_name               200 non-null    object \n",
      " 48  addr_number_name        200 non-null    object \n",
      " 49  kind_name_img           200 non-null    object \n",
      " 50  address_img             200 non-null    object \n",
      " 51  cases_name              200 non-null    object \n",
      " 52  layout                  200 non-null    object \n",
      " 53  layout_str              200 non-null    object \n",
      " 54  allfloor                200 non-null    int64  \n",
      " 55  floorInfo               200 non-null    object \n",
      " 56  house_img               200 non-null    object \n",
      " 57  houseimg                1 non-null      object \n",
      " 58  cartplace               200 non-null    object \n",
      " 59  space_type_str          200 non-null    object \n",
      " 60  photo_alt               200 non-null    object \n",
      " 61  addition4               200 non-null    int64  \n",
      " 62  addition2               200 non-null    int64  \n",
      " 63  addition3               200 non-null    int64  \n",
      " 64  vipimg                  200 non-null    object \n",
      " 65  vipstyle                200 non-null    object \n",
      " 66  vipBorder               200 non-null    object \n",
      " 67  new_list_comment_total  200 non-null    int64  \n",
      " 68  comment_class           200 non-null    object \n",
      " 69  price_hide              200 non-null    object \n",
      " 70  kind_name               200 non-null    object \n",
      " 71  photoNum                200 non-null    object \n",
      " 72  filename                200 non-null    object \n",
      " 73  nick_name               200 non-null    object \n",
      " 74  new_img                 200 non-null    object \n",
      " 75  regionname              200 non-null    object \n",
      " 76  sectionname             200 non-null    object \n",
      " 77  icon_name               200 non-null    object \n",
      " 78  icon_class              200 non-null    object \n",
      " 79  fulladdress             200 non-null    object \n",
      " 80  address_img_title       200 non-null    object \n",
      " 81  browsenum_name          200 non-null    object \n",
      " 82  unit                    200 non-null    object \n",
      " 83  houseid                 200 non-null    int64  \n",
      " 84  region_name             200 non-null    object \n",
      " 85  section_name            200 non-null    object \n",
      " 86  addInfo                 200 non-null    object \n",
      " 87  onepxImg                200 non-null    object \n",
      "dtypes: float64(1), int64(35), object(52)\n",
      "memory usage: 139.1+ KB\n"
     ]
    }
   ],
   "source": [
    "df.info()"
   ]
  },
  {
   "cell_type": "markdown",
   "metadata": {},
   "source": [
    "## 資料清理"
   ]
  },
  {
   "cell_type": "markdown",
   "metadata": {},
   "source": [
    "### 取出想要的variable"
   ]
  },
  {
   "cell_type": "code",
   "execution_count": 45,
   "metadata": {},
   "outputs": [
    {
     "data": {
      "text/html": [
       "<div>\n",
       "<style scoped>\n",
       "    .dataframe tbody tr th:only-of-type {\n",
       "        vertical-align: middle;\n",
       "    }\n",
       "\n",
       "    .dataframe tbody tr th {\n",
       "        vertical-align: top;\n",
       "    }\n",
       "\n",
       "    .dataframe thead th {\n",
       "        text-align: right;\n",
       "    }\n",
       "</style>\n",
       "<table border=\"1\" class=\"dataframe\">\n",
       "  <thead>\n",
       "    <tr style=\"text-align: right;\">\n",
       "      <th></th>\n",
       "      <th>address</th>\n",
       "      <th>floor</th>\n",
       "      <th>allfloor</th>\n",
       "      <th>layout</th>\n",
       "      <th>area</th>\n",
       "      <th>price</th>\n",
       "      <th>browsenum_all</th>\n",
       "    </tr>\n",
       "  </thead>\n",
       "  <tbody>\n",
       "    <tr>\n",
       "      <th>0</th>\n",
       "      <td>華豐街120巷瑞豐夜市3樓..</td>\n",
       "      <td>3</td>\n",
       "      <td>5</td>\n",
       "      <td>3房2廳2衛</td>\n",
       "      <td>27.0</td>\n",
       "      <td>13,500</td>\n",
       "      <td>1709</td>\n",
       "    </tr>\n",
       "    <tr>\n",
       "      <th>1</th>\n",
       "      <td>美術東八街美術館超稀有36..</td>\n",
       "      <td>22</td>\n",
       "      <td>23</td>\n",
       "      <td>3房1廳2衛</td>\n",
       "      <td>58.1</td>\n",
       "      <td>35,000</td>\n",
       "      <td>167</td>\n",
       "    </tr>\n",
       "    <tr>\n",
       "      <th>2</th>\n",
       "      <td>美術東三路農16精美裝潢三..</td>\n",
       "      <td>6</td>\n",
       "      <td>15</td>\n",
       "      <td>3房2廳2衛</td>\n",
       "      <td>38.8</td>\n",
       "      <td>22,000</td>\n",
       "      <td>1184</td>\n",
       "    </tr>\n",
       "    <tr>\n",
       "      <th>3</th>\n",
       "      <td>明誠四路🍀帝門美術館第一排綠..</td>\n",
       "      <td>24</td>\n",
       "      <td>24</td>\n",
       "      <td>4房2廳2衛</td>\n",
       "      <td>86.9</td>\n",
       "      <td>56,000</td>\n",
       "      <td>647</td>\n",
       "    </tr>\n",
       "    <tr>\n",
       "      <th>4</th>\n",
       "      <td>青海路🍀美術館鳳凰會泳池高檔..</td>\n",
       "      <td>12</td>\n",
       "      <td>24</td>\n",
       "      <td>4房2廳3衛</td>\n",
       "      <td>82.0</td>\n",
       "      <td>60,000</td>\n",
       "      <td>479</td>\n",
       "    </tr>\n",
       "  </tbody>\n",
       "</table>\n",
       "</div>"
      ],
      "text/plain": [
       "            address  floor  allfloor  layout  area   price  browsenum_all\n",
       "0   華豐街120巷瑞豐夜市3樓..      3         5  3房2廳2衛  27.0  13,500           1709\n",
       "1   美術東八街美術館超稀有36..     22        23  3房1廳2衛  58.1  35,000            167\n",
       "2   美術東三路農16精美裝潢三..      6        15  3房2廳2衛  38.8  22,000           1184\n",
       "3  明誠四路🍀帝門美術館第一排綠..     24        24  4房2廳2衛  86.9  56,000            647\n",
       "4  青海路🍀美術館鳳凰會泳池高檔..     12        24  4房2廳3衛  82.0  60,000            479"
      ]
     },
     "execution_count": 45,
     "metadata": {},
     "output_type": "execute_result"
    }
   ],
   "source": [
    "df = df[['address', 'floor', 'allfloor', 'layout', 'area', 'price', 'browsenum_all']]\n",
    "df.head()"
   ]
  },
  {
   "cell_type": "markdown",
   "metadata": {},
   "source": [
    "### 把price從type'object'改成'int'"
   ]
  },
  {
   "cell_type": "code",
   "execution_count": 46,
   "metadata": {},
   "outputs": [],
   "source": [
    "df['price'] = df['price'].map(lambda e: int(e.replace(',', '')))"
   ]
  },
  {
   "cell_type": "code",
   "execution_count": 47,
   "metadata": {},
   "outputs": [
    {
     "name": "stdout",
     "output_type": "stream",
     "text": [
      "<class 'pandas.core.frame.DataFrame'>\n",
      "Int64Index: 200 entries, 0 to 19\n",
      "Data columns (total 7 columns):\n",
      " #   Column         Non-Null Count  Dtype  \n",
      "---  ------         --------------  -----  \n",
      " 0   address        200 non-null    object \n",
      " 1   floor          200 non-null    int64  \n",
      " 2   allfloor       200 non-null    int64  \n",
      " 3   layout         200 non-null    object \n",
      " 4   area           200 non-null    float64\n",
      " 5   price          200 non-null    int64  \n",
      " 6   browsenum_all  200 non-null    int64  \n",
      "dtypes: float64(1), int64(4), object(2)\n",
      "memory usage: 12.5+ KB\n"
     ]
    },
    {
     "data": {
      "text/html": [
       "<div>\n",
       "<style scoped>\n",
       "    .dataframe tbody tr th:only-of-type {\n",
       "        vertical-align: middle;\n",
       "    }\n",
       "\n",
       "    .dataframe tbody tr th {\n",
       "        vertical-align: top;\n",
       "    }\n",
       "\n",
       "    .dataframe thead th {\n",
       "        text-align: right;\n",
       "    }\n",
       "</style>\n",
       "<table border=\"1\" class=\"dataframe\">\n",
       "  <thead>\n",
       "    <tr style=\"text-align: right;\">\n",
       "      <th></th>\n",
       "      <th>address</th>\n",
       "      <th>floor</th>\n",
       "      <th>allfloor</th>\n",
       "      <th>layout</th>\n",
       "      <th>area</th>\n",
       "      <th>price</th>\n",
       "      <th>browsenum_all</th>\n",
       "    </tr>\n",
       "  </thead>\n",
       "  <tbody>\n",
       "    <tr>\n",
       "      <th>0</th>\n",
       "      <td>華豐街120巷瑞豐夜市3樓..</td>\n",
       "      <td>3</td>\n",
       "      <td>5</td>\n",
       "      <td>3房2廳2衛</td>\n",
       "      <td>27.0</td>\n",
       "      <td>13500</td>\n",
       "      <td>1709</td>\n",
       "    </tr>\n",
       "    <tr>\n",
       "      <th>1</th>\n",
       "      <td>美術東八街美術館超稀有36..</td>\n",
       "      <td>22</td>\n",
       "      <td>23</td>\n",
       "      <td>3房1廳2衛</td>\n",
       "      <td>58.1</td>\n",
       "      <td>35000</td>\n",
       "      <td>167</td>\n",
       "    </tr>\n",
       "    <tr>\n",
       "      <th>2</th>\n",
       "      <td>美術東三路農16精美裝潢三..</td>\n",
       "      <td>6</td>\n",
       "      <td>15</td>\n",
       "      <td>3房2廳2衛</td>\n",
       "      <td>38.8</td>\n",
       "      <td>22000</td>\n",
       "      <td>1184</td>\n",
       "    </tr>\n",
       "    <tr>\n",
       "      <th>3</th>\n",
       "      <td>明誠四路🍀帝門美術館第一排綠..</td>\n",
       "      <td>24</td>\n",
       "      <td>24</td>\n",
       "      <td>4房2廳2衛</td>\n",
       "      <td>86.9</td>\n",
       "      <td>56000</td>\n",
       "      <td>647</td>\n",
       "    </tr>\n",
       "    <tr>\n",
       "      <th>4</th>\n",
       "      <td>青海路🍀美術館鳳凰會泳池高檔..</td>\n",
       "      <td>12</td>\n",
       "      <td>24</td>\n",
       "      <td>4房2廳3衛</td>\n",
       "      <td>82.0</td>\n",
       "      <td>60000</td>\n",
       "      <td>479</td>\n",
       "    </tr>\n",
       "  </tbody>\n",
       "</table>\n",
       "</div>"
      ],
      "text/plain": [
       "            address  floor  allfloor  layout  area  price  browsenum_all\n",
       "0   華豐街120巷瑞豐夜市3樓..      3         5  3房2廳2衛  27.0  13500           1709\n",
       "1   美術東八街美術館超稀有36..     22        23  3房1廳2衛  58.1  35000            167\n",
       "2   美術東三路農16精美裝潢三..      6        15  3房2廳2衛  38.8  22000           1184\n",
       "3  明誠四路🍀帝門美術館第一排綠..     24        24  4房2廳2衛  86.9  56000            647\n",
       "4  青海路🍀美術館鳳凰會泳池高檔..     12        24  4房2廳3衛  82.0  60000            479"
      ]
     },
     "execution_count": 47,
     "metadata": {},
     "output_type": "execute_result"
    }
   ],
   "source": [
    "df.info()\n",
    "df.head()"
   ]
  },
  {
   "cell_type": "markdown",
   "metadata": {},
   "source": [
    "### 發現layout是object，不利數值分析，進一步轉換"
   ]
  },
  {
   "cell_type": "code",
   "execution_count": 48,
   "metadata": {},
   "outputs": [],
   "source": [
    "df[['layout_bedroom', 'layout_livingroom', 'layout_bathroom']] = df['layout'].str.extract('(\\d+)房(\\d)廳(\\d)衛')"
   ]
  },
  {
   "cell_type": "code",
   "execution_count": 49,
   "metadata": {},
   "outputs": [
    {
     "name": "stdout",
     "output_type": "stream",
     "text": [
      "<class 'pandas.core.frame.DataFrame'>\n",
      "Int64Index: 200 entries, 0 to 19\n",
      "Data columns (total 10 columns):\n",
      " #   Column             Non-Null Count  Dtype  \n",
      "---  ------             --------------  -----  \n",
      " 0   address            200 non-null    object \n",
      " 1   floor              200 non-null    int64  \n",
      " 2   allfloor           200 non-null    int64  \n",
      " 3   layout             200 non-null    object \n",
      " 4   area               200 non-null    float64\n",
      " 5   price              200 non-null    int64  \n",
      " 6   browsenum_all      200 non-null    int64  \n",
      " 7   layout_bedroom     198 non-null    object \n",
      " 8   layout_livingroom  198 non-null    object \n",
      " 9   layout_bathroom    198 non-null    object \n",
      "dtypes: float64(1), int64(4), object(5)\n",
      "memory usage: 17.2+ KB\n"
     ]
    }
   ],
   "source": [
    "df.info()"
   ]
  },
  {
   "cell_type": "markdown",
   "metadata": {},
   "source": [
    "### 刪掉遺失值"
   ]
  },
  {
   "cell_type": "code",
   "execution_count": 50,
   "metadata": {},
   "outputs": [],
   "source": [
    "df.dropna(inplace=True) #刪除遺失值"
   ]
  },
  {
   "cell_type": "code",
   "execution_count": 51,
   "metadata": {},
   "outputs": [
    {
     "data": {
      "text/plain": [
       "address              0\n",
       "floor                0\n",
       "allfloor             0\n",
       "layout               0\n",
       "area                 0\n",
       "price                0\n",
       "browsenum_all        0\n",
       "layout_bedroom       0\n",
       "layout_livingroom    0\n",
       "layout_bathroom      0\n",
       "dtype: int64"
      ]
     },
     "execution_count": 51,
     "metadata": {},
     "output_type": "execute_result"
    }
   ],
   "source": [
    "df.isna().sum()"
   ]
  },
  {
   "cell_type": "markdown",
   "metadata": {},
   "source": [
    "### 轉成int"
   ]
  },
  {
   "cell_type": "code",
   "execution_count": 52,
   "metadata": {},
   "outputs": [],
   "source": [
    "df['layout_bedroom'] = df['layout_bedroom'].astype(int)\n",
    "df['layout_livingroom'] = df['layout_livingroom'].astype(int)\n",
    "df['layout_bathroom'] = df['layout_bathroom'].astype(int)"
   ]
  },
  {
   "cell_type": "code",
   "execution_count": 53,
   "metadata": {},
   "outputs": [
    {
     "name": "stdout",
     "output_type": "stream",
     "text": [
      "<class 'pandas.core.frame.DataFrame'>\n",
      "Int64Index: 198 entries, 0 to 19\n",
      "Data columns (total 10 columns):\n",
      " #   Column             Non-Null Count  Dtype  \n",
      "---  ------             --------------  -----  \n",
      " 0   address            198 non-null    object \n",
      " 1   floor              198 non-null    int64  \n",
      " 2   allfloor           198 non-null    int64  \n",
      " 3   layout             198 non-null    object \n",
      " 4   area               198 non-null    float64\n",
      " 5   price              198 non-null    int64  \n",
      " 6   browsenum_all      198 non-null    int64  \n",
      " 7   layout_bedroom     198 non-null    int32  \n",
      " 8   layout_livingroom  198 non-null    int32  \n",
      " 9   layout_bathroom    198 non-null    int32  \n",
      "dtypes: float64(1), int32(3), int64(4), object(2)\n",
      "memory usage: 14.7+ KB\n"
     ]
    }
   ],
   "source": [
    "df.info()"
   ]
  },
  {
   "cell_type": "code",
   "execution_count": 54,
   "metadata": {},
   "outputs": [
    {
     "data": {
      "text/html": [
       "<div>\n",
       "<style scoped>\n",
       "    .dataframe tbody tr th:only-of-type {\n",
       "        vertical-align: middle;\n",
       "    }\n",
       "\n",
       "    .dataframe tbody tr th {\n",
       "        vertical-align: top;\n",
       "    }\n",
       "\n",
       "    .dataframe thead th {\n",
       "        text-align: right;\n",
       "    }\n",
       "</style>\n",
       "<table border=\"1\" class=\"dataframe\">\n",
       "  <thead>\n",
       "    <tr style=\"text-align: right;\">\n",
       "      <th></th>\n",
       "      <th>address</th>\n",
       "      <th>floor</th>\n",
       "      <th>allfloor</th>\n",
       "      <th>layout</th>\n",
       "      <th>area</th>\n",
       "      <th>price</th>\n",
       "      <th>browsenum_all</th>\n",
       "      <th>layout_bedroom</th>\n",
       "      <th>layout_livingroom</th>\n",
       "      <th>layout_bathroom</th>\n",
       "    </tr>\n",
       "  </thead>\n",
       "  <tbody>\n",
       "    <tr>\n",
       "      <th>0</th>\n",
       "      <td>華豐街120巷瑞豐夜市3樓..</td>\n",
       "      <td>3</td>\n",
       "      <td>5</td>\n",
       "      <td>3房2廳2衛</td>\n",
       "      <td>27.0</td>\n",
       "      <td>13500</td>\n",
       "      <td>1709</td>\n",
       "      <td>3</td>\n",
       "      <td>2</td>\n",
       "      <td>2</td>\n",
       "    </tr>\n",
       "    <tr>\n",
       "      <th>1</th>\n",
       "      <td>美術東八街美術館超稀有36..</td>\n",
       "      <td>22</td>\n",
       "      <td>23</td>\n",
       "      <td>3房1廳2衛</td>\n",
       "      <td>58.1</td>\n",
       "      <td>35000</td>\n",
       "      <td>167</td>\n",
       "      <td>3</td>\n",
       "      <td>1</td>\n",
       "      <td>2</td>\n",
       "    </tr>\n",
       "    <tr>\n",
       "      <th>2</th>\n",
       "      <td>美術東三路農16精美裝潢三..</td>\n",
       "      <td>6</td>\n",
       "      <td>15</td>\n",
       "      <td>3房2廳2衛</td>\n",
       "      <td>38.8</td>\n",
       "      <td>22000</td>\n",
       "      <td>1184</td>\n",
       "      <td>3</td>\n",
       "      <td>2</td>\n",
       "      <td>2</td>\n",
       "    </tr>\n",
       "    <tr>\n",
       "      <th>3</th>\n",
       "      <td>明誠四路🍀帝門美術館第一排綠..</td>\n",
       "      <td>24</td>\n",
       "      <td>24</td>\n",
       "      <td>4房2廳2衛</td>\n",
       "      <td>86.9</td>\n",
       "      <td>56000</td>\n",
       "      <td>647</td>\n",
       "      <td>4</td>\n",
       "      <td>2</td>\n",
       "      <td>2</td>\n",
       "    </tr>\n",
       "    <tr>\n",
       "      <th>4</th>\n",
       "      <td>青海路🍀美術館鳳凰會泳池高檔..</td>\n",
       "      <td>12</td>\n",
       "      <td>24</td>\n",
       "      <td>4房2廳3衛</td>\n",
       "      <td>82.0</td>\n",
       "      <td>60000</td>\n",
       "      <td>479</td>\n",
       "      <td>4</td>\n",
       "      <td>2</td>\n",
       "      <td>3</td>\n",
       "    </tr>\n",
       "  </tbody>\n",
       "</table>\n",
       "</div>"
      ],
      "text/plain": [
       "            address  floor  allfloor  layout  area  price  browsenum_all  \\\n",
       "0   華豐街120巷瑞豐夜市3樓..      3         5  3房2廳2衛  27.0  13500           1709   \n",
       "1   美術東八街美術館超稀有36..     22        23  3房1廳2衛  58.1  35000            167   \n",
       "2   美術東三路農16精美裝潢三..      6        15  3房2廳2衛  38.8  22000           1184   \n",
       "3  明誠四路🍀帝門美術館第一排綠..     24        24  4房2廳2衛  86.9  56000            647   \n",
       "4  青海路🍀美術館鳳凰會泳池高檔..     12        24  4房2廳3衛  82.0  60000            479   \n",
       "\n",
       "   layout_bedroom  layout_livingroom  layout_bathroom  \n",
       "0               3                  2                2  \n",
       "1               3                  1                2  \n",
       "2               3                  2                2  \n",
       "3               4                  2                2  \n",
       "4               4                  2                3  "
      ]
     },
     "execution_count": 54,
     "metadata": {},
     "output_type": "execute_result"
    }
   ],
   "source": [
    "df.head()"
   ]
  },
  {
   "cell_type": "code",
   "execution_count": 55,
   "metadata": {},
   "outputs": [
    {
     "data": {
      "text/html": [
       "<div>\n",
       "<style scoped>\n",
       "    .dataframe tbody tr th:only-of-type {\n",
       "        vertical-align: middle;\n",
       "    }\n",
       "\n",
       "    .dataframe tbody tr th {\n",
       "        vertical-align: top;\n",
       "    }\n",
       "\n",
       "    .dataframe thead th {\n",
       "        text-align: right;\n",
       "    }\n",
       "</style>\n",
       "<table border=\"1\" class=\"dataframe\">\n",
       "  <thead>\n",
       "    <tr style=\"text-align: right;\">\n",
       "      <th></th>\n",
       "      <th>address</th>\n",
       "      <th>floor</th>\n",
       "      <th>allfloor</th>\n",
       "      <th>area</th>\n",
       "      <th>price</th>\n",
       "      <th>browsenum_all</th>\n",
       "      <th>layout_bedroom</th>\n",
       "      <th>layout_livingroom</th>\n",
       "      <th>layout_bathroom</th>\n",
       "    </tr>\n",
       "  </thead>\n",
       "  <tbody>\n",
       "    <tr>\n",
       "      <th>0</th>\n",
       "      <td>華豐街120巷瑞豐夜市3樓..</td>\n",
       "      <td>3</td>\n",
       "      <td>5</td>\n",
       "      <td>27.0</td>\n",
       "      <td>13500</td>\n",
       "      <td>1709</td>\n",
       "      <td>3</td>\n",
       "      <td>2</td>\n",
       "      <td>2</td>\n",
       "    </tr>\n",
       "    <tr>\n",
       "      <th>1</th>\n",
       "      <td>美術東八街美術館超稀有36..</td>\n",
       "      <td>22</td>\n",
       "      <td>23</td>\n",
       "      <td>58.1</td>\n",
       "      <td>35000</td>\n",
       "      <td>167</td>\n",
       "      <td>3</td>\n",
       "      <td>1</td>\n",
       "      <td>2</td>\n",
       "    </tr>\n",
       "    <tr>\n",
       "      <th>2</th>\n",
       "      <td>美術東三路農16精美裝潢三..</td>\n",
       "      <td>6</td>\n",
       "      <td>15</td>\n",
       "      <td>38.8</td>\n",
       "      <td>22000</td>\n",
       "      <td>1184</td>\n",
       "      <td>3</td>\n",
       "      <td>2</td>\n",
       "      <td>2</td>\n",
       "    </tr>\n",
       "    <tr>\n",
       "      <th>3</th>\n",
       "      <td>明誠四路🍀帝門美術館第一排綠..</td>\n",
       "      <td>24</td>\n",
       "      <td>24</td>\n",
       "      <td>86.9</td>\n",
       "      <td>56000</td>\n",
       "      <td>647</td>\n",
       "      <td>4</td>\n",
       "      <td>2</td>\n",
       "      <td>2</td>\n",
       "    </tr>\n",
       "    <tr>\n",
       "      <th>4</th>\n",
       "      <td>青海路🍀美術館鳳凰會泳池高檔..</td>\n",
       "      <td>12</td>\n",
       "      <td>24</td>\n",
       "      <td>82.0</td>\n",
       "      <td>60000</td>\n",
       "      <td>479</td>\n",
       "      <td>4</td>\n",
       "      <td>2</td>\n",
       "      <td>3</td>\n",
       "    </tr>\n",
       "  </tbody>\n",
       "</table>\n",
       "</div>"
      ],
      "text/plain": [
       "            address  floor  allfloor  area  price  browsenum_all  \\\n",
       "0   華豐街120巷瑞豐夜市3樓..      3         5  27.0  13500           1709   \n",
       "1   美術東八街美術館超稀有36..     22        23  58.1  35000            167   \n",
       "2   美術東三路農16精美裝潢三..      6        15  38.8  22000           1184   \n",
       "3  明誠四路🍀帝門美術館第一排綠..     24        24  86.9  56000            647   \n",
       "4  青海路🍀美術館鳳凰會泳池高檔..     12        24  82.0  60000            479   \n",
       "\n",
       "   layout_bedroom  layout_livingroom  layout_bathroom  \n",
       "0               3                  2                2  \n",
       "1               3                  1                2  \n",
       "2               3                  2                2  \n",
       "3               4                  2                2  \n",
       "4               4                  2                3  "
      ]
     },
     "execution_count": 55,
     "metadata": {},
     "output_type": "execute_result"
    }
   ],
   "source": [
    "del df['layout'] #刪掉layout\n",
    "df.head()"
   ]
  },
  {
   "cell_type": "markdown",
   "metadata": {},
   "source": [
    "## 資料儲存"
   ]
  },
  {
   "cell_type": "code",
   "execution_count": 56,
   "metadata": {},
   "outputs": [],
   "source": [
    "import sqlite3\n",
    "with sqlite3.connect('house.sqlite') as db:\n",
    "    df.to_sql('renthouse', con = db, if_exists = 'replace')"
   ]
  },
  {
   "cell_type": "markdown",
   "metadata": {},
   "source": [
    "## 數據統計分析"
   ]
  },
  {
   "cell_type": "code",
   "execution_count": 57,
   "metadata": {},
   "outputs": [
    {
     "data": {
      "text/html": [
       "<div>\n",
       "<style scoped>\n",
       "    .dataframe tbody tr th:only-of-type {\n",
       "        vertical-align: middle;\n",
       "    }\n",
       "\n",
       "    .dataframe tbody tr th {\n",
       "        vertical-align: top;\n",
       "    }\n",
       "\n",
       "    .dataframe thead th {\n",
       "        text-align: right;\n",
       "    }\n",
       "</style>\n",
       "<table border=\"1\" class=\"dataframe\">\n",
       "  <thead>\n",
       "    <tr style=\"text-align: right;\">\n",
       "      <th></th>\n",
       "      <th>floor</th>\n",
       "      <th>allfloor</th>\n",
       "      <th>area</th>\n",
       "      <th>price</th>\n",
       "      <th>browsenum_all</th>\n",
       "      <th>layout_bedroom</th>\n",
       "      <th>layout_livingroom</th>\n",
       "      <th>layout_bathroom</th>\n",
       "    </tr>\n",
       "  </thead>\n",
       "  <tbody>\n",
       "    <tr>\n",
       "      <th>count</th>\n",
       "      <td>198.000000</td>\n",
       "      <td>198.000000</td>\n",
       "      <td>198.000000</td>\n",
       "      <td>198.000000</td>\n",
       "      <td>198.000000</td>\n",
       "      <td>198.000000</td>\n",
       "      <td>198.000000</td>\n",
       "      <td>198.000000</td>\n",
       "    </tr>\n",
       "    <tr>\n",
       "      <th>mean</th>\n",
       "      <td>10.040404</td>\n",
       "      <td>16.469697</td>\n",
       "      <td>45.030303</td>\n",
       "      <td>31173.732323</td>\n",
       "      <td>501.156566</td>\n",
       "      <td>2.838384</td>\n",
       "      <td>1.792929</td>\n",
       "      <td>1.747475</td>\n",
       "    </tr>\n",
       "    <tr>\n",
       "      <th>std</th>\n",
       "      <td>10.583887</td>\n",
       "      <td>5.722570</td>\n",
       "      <td>29.984153</td>\n",
       "      <td>19627.033282</td>\n",
       "      <td>687.883800</td>\n",
       "      <td>0.833403</td>\n",
       "      <td>0.418543</td>\n",
       "      <td>0.626706</td>\n",
       "    </tr>\n",
       "    <tr>\n",
       "      <th>min</th>\n",
       "      <td>1.000000</td>\n",
       "      <td>2.000000</td>\n",
       "      <td>12.000000</td>\n",
       "      <td>7000.000000</td>\n",
       "      <td>21.000000</td>\n",
       "      <td>1.000000</td>\n",
       "      <td>1.000000</td>\n",
       "      <td>1.000000</td>\n",
       "    </tr>\n",
       "    <tr>\n",
       "      <th>25%</th>\n",
       "      <td>4.000000</td>\n",
       "      <td>14.000000</td>\n",
       "      <td>24.600000</td>\n",
       "      <td>18000.000000</td>\n",
       "      <td>177.000000</td>\n",
       "      <td>2.000000</td>\n",
       "      <td>2.000000</td>\n",
       "      <td>1.000000</td>\n",
       "    </tr>\n",
       "    <tr>\n",
       "      <th>50%</th>\n",
       "      <td>9.000000</td>\n",
       "      <td>15.000000</td>\n",
       "      <td>34.900000</td>\n",
       "      <td>23000.000000</td>\n",
       "      <td>330.000000</td>\n",
       "      <td>3.000000</td>\n",
       "      <td>2.000000</td>\n",
       "      <td>2.000000</td>\n",
       "    </tr>\n",
       "    <tr>\n",
       "      <th>75%</th>\n",
       "      <td>12.000000</td>\n",
       "      <td>19.750000</td>\n",
       "      <td>62.950000</td>\n",
       "      <td>39000.000000</td>\n",
       "      <td>630.500000</td>\n",
       "      <td>3.000000</td>\n",
       "      <td>2.000000</td>\n",
       "      <td>2.000000</td>\n",
       "    </tr>\n",
       "    <tr>\n",
       "      <th>max</th>\n",
       "      <td>99.000000</td>\n",
       "      <td>29.000000</td>\n",
       "      <td>190.200000</td>\n",
       "      <td>128000.000000</td>\n",
       "      <td>7378.000000</td>\n",
       "      <td>5.000000</td>\n",
       "      <td>3.000000</td>\n",
       "      <td>4.000000</td>\n",
       "    </tr>\n",
       "  </tbody>\n",
       "</table>\n",
       "</div>"
      ],
      "text/plain": [
       "            floor    allfloor        area          price  browsenum_all  \\\n",
       "count  198.000000  198.000000  198.000000     198.000000     198.000000   \n",
       "mean    10.040404   16.469697   45.030303   31173.732323     501.156566   \n",
       "std     10.583887    5.722570   29.984153   19627.033282     687.883800   \n",
       "min      1.000000    2.000000   12.000000    7000.000000      21.000000   \n",
       "25%      4.000000   14.000000   24.600000   18000.000000     177.000000   \n",
       "50%      9.000000   15.000000   34.900000   23000.000000     330.000000   \n",
       "75%     12.000000   19.750000   62.950000   39000.000000     630.500000   \n",
       "max     99.000000   29.000000  190.200000  128000.000000    7378.000000   \n",
       "\n",
       "       layout_bedroom  layout_livingroom  layout_bathroom  \n",
       "count      198.000000         198.000000       198.000000  \n",
       "mean         2.838384           1.792929         1.747475  \n",
       "std          0.833403           0.418543         0.626706  \n",
       "min          1.000000           1.000000         1.000000  \n",
       "25%          2.000000           2.000000         1.000000  \n",
       "50%          3.000000           2.000000         2.000000  \n",
       "75%          3.000000           2.000000         2.000000  \n",
       "max          5.000000           3.000000         4.000000  "
      ]
     },
     "execution_count": 57,
     "metadata": {},
     "output_type": "execute_result"
    }
   ],
   "source": [
    "df.describe()"
   ]
  },
  {
   "cell_type": "code",
   "execution_count": 58,
   "metadata": {},
   "outputs": [
    {
     "data": {
      "text/html": [
       "<div>\n",
       "<style scoped>\n",
       "    .dataframe tbody tr th:only-of-type {\n",
       "        vertical-align: middle;\n",
       "    }\n",
       "\n",
       "    .dataframe tbody tr th {\n",
       "        vertical-align: top;\n",
       "    }\n",
       "\n",
       "    .dataframe thead th {\n",
       "        text-align: right;\n",
       "    }\n",
       "</style>\n",
       "<table border=\"1\" class=\"dataframe\">\n",
       "  <thead>\n",
       "    <tr style=\"text-align: right;\">\n",
       "      <th></th>\n",
       "      <th>address</th>\n",
       "      <th>floor</th>\n",
       "      <th>allfloor</th>\n",
       "      <th>area</th>\n",
       "      <th>price</th>\n",
       "      <th>browsenum_all</th>\n",
       "      <th>layout_bedroom</th>\n",
       "      <th>layout_livingroom</th>\n",
       "      <th>layout_bathroom</th>\n",
       "    </tr>\n",
       "  </thead>\n",
       "  <tbody>\n",
       "    <tr>\n",
       "      <th>15</th>\n",
       "      <td>鼓山三路🍊美術鼎峰泳池尊榮雙..</td>\n",
       "      <td>23</td>\n",
       "      <td>23</td>\n",
       "      <td>190.2</td>\n",
       "      <td>128000</td>\n",
       "      <td>84</td>\n",
       "      <td>5</td>\n",
       "      <td>2</td>\n",
       "      <td>4</td>\n",
       "    </tr>\n",
       "    <tr>\n",
       "      <th>20</th>\n",
       "      <td>鼓山三路🍀服務費⑤折-鼎..</td>\n",
       "      <td>23</td>\n",
       "      <td>23</td>\n",
       "      <td>190.2</td>\n",
       "      <td>120000</td>\n",
       "      <td>202</td>\n",
       "      <td>5</td>\n",
       "      <td>2</td>\n",
       "      <td>4</td>\n",
       "    </tr>\n",
       "    <tr>\n",
       "      <th>22</th>\n",
       "      <td>美術南一街🍀美術館低調奢華豪..</td>\n",
       "      <td>3</td>\n",
       "      <td>14</td>\n",
       "      <td>116.7</td>\n",
       "      <td>85000</td>\n",
       "      <td>42</td>\n",
       "      <td>4</td>\n",
       "      <td>2</td>\n",
       "      <td>3</td>\n",
       "    </tr>\n",
       "    <tr>\n",
       "      <th>28</th>\n",
       "      <td>美術東五路🍀皇苑世紀3+1房空..</td>\n",
       "      <td>5</td>\n",
       "      <td>28</td>\n",
       "      <td>140.9</td>\n",
       "      <td>80000</td>\n",
       "      <td>153</td>\n",
       "      <td>4</td>\n",
       "      <td>2</td>\n",
       "      <td>2</td>\n",
       "    </tr>\n",
       "    <tr>\n",
       "      <th>12</th>\n",
       "      <td>美術館路🍀美術館泳池綠蔭3+1..</td>\n",
       "      <td>7</td>\n",
       "      <td>25</td>\n",
       "      <td>120.4</td>\n",
       "      <td>78000</td>\n",
       "      <td>203</td>\n",
       "      <td>4</td>\n",
       "      <td>2</td>\n",
       "      <td>3</td>\n",
       "    </tr>\n",
       "  </tbody>\n",
       "</table>\n",
       "</div>"
      ],
      "text/plain": [
       "              address  floor  allfloor   area   price  browsenum_all  \\\n",
       "15   鼓山三路🍊美術鼎峰泳池尊榮雙..     23        23  190.2  128000             84   \n",
       "20     鼓山三路🍀服務費⑤折-鼎..     23        23  190.2  120000            202   \n",
       "22   美術南一街🍀美術館低調奢華豪..      3        14  116.7   85000             42   \n",
       "28  美術東五路🍀皇苑世紀3+1房空..      5        28  140.9   80000            153   \n",
       "12  美術館路🍀美術館泳池綠蔭3+1..      7        25  120.4   78000            203   \n",
       "\n",
       "    layout_bedroom  layout_livingroom  layout_bathroom  \n",
       "15               5                  2                4  \n",
       "20               5                  2                4  \n",
       "22               4                  2                3  \n",
       "28               4                  2                2  \n",
       "12               4                  2                3  "
      ]
     },
     "execution_count": 58,
     "metadata": {},
     "output_type": "execute_result"
    }
   ],
   "source": [
    "df.sort_values('price', ascending=False).head()"
   ]
  },
  {
   "cell_type": "code",
   "execution_count": 59,
   "metadata": {},
   "outputs": [
    {
     "name": "stdout",
     "output_type": "stream",
     "text": [
      "Populating the interactive namespace from numpy and matplotlib\n"
     ]
    },
    {
     "data": {
      "text/plain": [
       "<AxesSubplot:>"
      ]
     },
     "execution_count": 59,
     "metadata": {},
     "output_type": "execute_result"
    },
    {
     "data": {
      "image/png": "[encoded data removed]",
      "text/plain": [
       "<Figure size 432x288 with 1 Axes>"
      ]
     },
     "metadata": {
      "needs_background": "light"
     },
     "output_type": "display_data"
    }
   ],
   "source": [
    "%pylab inline\n",
    "df['price'].plot(kind = 'box')"
   ]
  },
  {
   "cell_type": "code",
   "execution_count": 60,
   "metadata": {},
   "outputs": [
    {
     "name": "stdout",
     "output_type": "stream",
     "text": [
      "Populating the interactive namespace from numpy and matplotlib\n"
     ]
    },
    {
     "data": {
      "text/plain": [
       "<AxesSubplot:ylabel='Frequency'>"
      ]
     },
     "execution_count": 60,
     "metadata": {},
     "output_type": "execute_result"
    },
    {
     "data": {
      "image/png": "[encoded data removed]",
      "text/plain": [
       "<Figure size 432x288 with 1 Axes>"
      ]
     },
     "metadata": {
      "needs_background": "light"
     },
     "output_type": "display_data"
    }
   ],
   "source": [
    "%pylab inline\n",
    "df['price'].plot(kind = 'hist')"
   ]
  },
  {
   "cell_type": "code",
   "execution_count": 62,
   "metadata": {},
   "outputs": [
    {
     "name": "stdout",
     "output_type": "stream",
     "text": [
      "Populating the interactive namespace from numpy and matplotlib\n"
     ]
    },
    {
     "data": {
      "text/plain": [
       "<AxesSubplot:xlabel='area', ylabel='price'>"
      ]
     },
     "execution_count": 62,
     "metadata": {},
     "output_type": "execute_result"
    },
    {
     "data": {
      "image/png": "[encoded data removed]",
      "text/plain": [
       "<Figure size 432x288 with 1 Axes>"
      ]
     },
     "metadata": {
      "needs_background": "light"
     },
     "output_type": "display_data"
    }
   ],
   "source": [
    "%pylab inline\n",
    "df.plot(x = 'area', y ='price', kind = 'scatter')"
   ]
  },
  {
   "cell_type": "code",
   "execution_count": null,
   "metadata": {},
   "outputs": [],
   "source": []
  }
 ],
 "metadata": {
  "kernelspec": {
   "display_name": "Python 3",
   "language": "python",
   "name": "python3"
  },
  "language_info": {
   "codemirror_mode": {
    "name": "ipython",
    "version": 3
   },
   "file_extension": ".py",
   "mimetype": "text/x-python",
   "name": "python",
   "nbconvert_exporter": "python",
   "pygments_lexer": "ipython3",
   "version": "3.8.5"
  }
 },
 "nbformat": 4,
 "nbformat_minor": 4
}
